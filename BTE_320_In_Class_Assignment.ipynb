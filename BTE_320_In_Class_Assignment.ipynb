{
  "nbformat": 4,
  "nbformat_minor": 0,
  "metadata": {
    "colab": {
      "provenance": [],
      "authorship_tag": "ABX9TyPoMfk4siIS2JCnGUosGhEq",
      "include_colab_link": true
    },
    "kernelspec": {
      "name": "python3",
      "display_name": "Python 3"
    },
    "language_info": {
      "name": "python"
    }
  },
  "cells": [
    {
      "cell_type": "markdown",
      "metadata": {
        "id": "view-in-github",
        "colab_type": "text"
      },
      "source": [
        "<a href=\"https://colab.research.google.com/github/juliacampolina123/BTE320/blob/main/BTE_320_In_Class_Assignment.ipynb\" target=\"_parent\"><img src=\"https://colab.research.google.com/assets/colab-badge.svg\" alt=\"Open In Colab\"/></a>"
      ]
    },
    {
      "cell_type": "code",
      "execution_count": null,
      "metadata": {
        "colab": {
          "base_uri": "https://localhost:8080/"
        },
        "id": "X_ZU8SAKCnRH",
        "outputId": "7bd04d60-bd5b-4e6e-8404-faef712d4807"
      },
      "outputs": [
        {
          "output_type": "stream",
          "name": "stdout",
          "text": [
            "244.92000000000002\n"
          ]
        }
      ],
      "source": [
        "h=10\n",
        "r=3\n",
        "pi=3.14\n",
        "area=2*pi*r**2+2*pi*r*h\n",
        "print(area)"
      ]
    },
    {
      "cell_type": "code",
      "source": [
        "Choice= input(\"Do you want to play a game: \")\n",
        "while Choice == 'yes':\n",
        "\n",
        "  Player1= input(\"Player 1: choose rock, paper or scissors: \")\n",
        "  Player2= input(\"Player 2: choose rock, paper or scissors: \")\n",
        "  if Player1==Player2:\n",
        "    print('Draw')\n",
        "  elif Player1=='rock' and Player2=='scissors':\n",
        "    print('Player1 wins')\n",
        "  elif Player1=='paper' and Player2=='rock':\n",
        "    print('Player1 wins')\n",
        "  elif Player1=='scissors' and Player2=='rock':\n",
        "    print('Player1 wins')\n",
        "  else:\n",
        "    print('Player2 wins')\n",
        "\n",
        "  Choice= input(\"Play again: \") #update\n",
        "\n"
      ],
      "metadata": {
        "colab": {
          "base_uri": "https://localhost:8080/"
        },
        "id": "agx3BLWdLr1H",
        "outputId": "fb027f82-289b-4ffb-9b57-0ea4649b1c08"
      },
      "execution_count": null,
      "outputs": [
        {
          "name": "stdout",
          "output_type": "stream",
          "text": [
            "Do you want to play a game: yes\n",
            "Player 1: choose rock, paper or scissors: rock\n",
            "Player 2: choose rock, paper or scissors: paper\n",
            "Player2 wins\n",
            "Play again: no\n"
          ]
        }
      ]
    },
    {
      "cell_type": "code",
      "source": [
        "#Build a calculator\n",
        "Number1= float(input(\"enter number 1:\"))\n",
        "Number2= float(input(\"enter number 2:\"))\n",
        "Symbol= input(\"Choose operator (+,-,*,/,**):\")\n",
        "\n",
        "if Symbol=='*':\n",
        "  print(Number1*Number2)\n",
        "elif Symbol==\"-\":\n",
        "  print(Number1-Number2)\n",
        "elif Symbol==\"+\":\n",
        "  print(Number1+Number2)\n",
        "elif Symbol==\"/\":\n",
        "  print(Number1/Number2)\n",
        "else:\n",
        "  print(Number1**Number2)"
      ],
      "metadata": {
        "colab": {
          "base_uri": "https://localhost:8080/"
        },
        "id": "lFmlOoiiW0sP",
        "outputId": "1395fc63-2a54-4171-d641-1e6452b32866"
      },
      "execution_count": null,
      "outputs": [
        {
          "output_type": "stream",
          "name": "stdout",
          "text": [
            "enter number 1:4\n",
            "enter number 2:2\n",
            "Choose operator (+,-,*,/,**):/\n",
            "2.0\n"
          ]
        }
      ]
    },
    {
      "cell_type": "code",
      "source": [
        "#Parking garage - Initial problem\n",
        "#hourly 2.5 , flat rate 5, 1-8 hours, minimum $10, maximum $20\n",
        "\n",
        "flat_rate=5\n",
        "hourly_rate=2.5\n",
        "for hour in range(1,9,1):\n",
        "  total=flat_rate+(2.5*hour)\n",
        "  if total<10:\n",
        "    total=10.0\n",
        "  elif total>20:\n",
        "    total=20.0\n",
        "  print(hour, total)\n"
      ],
      "metadata": {
        "colab": {
          "base_uri": "https://localhost:8080/"
        },
        "id": "BpsHHdKaaRc1",
        "outputId": "4a1d7ac5-12bf-472b-ef10-be81235a5ebf"
      },
      "execution_count": null,
      "outputs": [
        {
          "output_type": "stream",
          "name": "stdout",
          "text": [
            "1 10.0\n",
            "2 10.0\n",
            "3 12.5\n",
            "4 15.0\n",
            "5 17.5\n",
            "6 20.0\n",
            "7 20.0\n",
            "8 20.0\n"
          ]
        }
      ]
    },
    {
      "cell_type": "code",
      "source": [
        "#Movie Theater - Initial Problem\n",
        "#ticket=$10 people attending= 20 additional attendees = 2x round (ad^1/2) fixed cost of $200 to run theater\n",
        "\n",
        "for ad in range(0,201,25):\n",
        "  additional=2*round(ad**0.5)\n",
        "  profit= (20+additional)*10-200-ad\n",
        "  print(ad, profit)"
      ],
      "metadata": {
        "colab": {
          "base_uri": "https://localhost:8080/"
        },
        "id": "KH9s1kDwkdYw",
        "outputId": "192426b1-9a2e-48bf-de12-94a54c0241f4"
      },
      "execution_count": null,
      "outputs": [
        {
          "output_type": "stream",
          "name": "stdout",
          "text": [
            "0 0\n",
            "25 75\n",
            "50 90\n",
            "75 105\n",
            "100 100\n",
            "125 95\n",
            "150 90\n",
            "175 85\n",
            "200 80\n"
          ]
        }
      ]
    },
    {
      "cell_type": "code",
      "source": [
        "#integer input\n",
        "l=[]\n",
        "item=int(input('Give a value: '))\n",
        "while item!=0:\n",
        "  l.append(item)\n",
        "  item=int(input('Give another value: '))\n",
        "print(l)"
      ],
      "metadata": {
        "id": "SXsShFyumRyl",
        "colab": {
          "base_uri": "https://localhost:8080/"
        },
        "outputId": "383b9e1b-c597-48a0-b35a-f1bd2cb3ba2b"
      },
      "execution_count": null,
      "outputs": [
        {
          "output_type": "stream",
          "name": "stdout",
          "text": [
            "Give a value: 9\n",
            "Give another value: 8\n",
            "Give another value: 0\n",
            "[9, 8]\n"
          ]
        }
      ]
    },
    {
      "cell_type": "code",
      "source": [
        "months={}\n",
        "\n",
        "names=[\"Jan\",\"Feb\",\"Mar\",\"Apr\", \"May\",\"Jun\",\"Jul\", \"Aug\", \"Sep\", \"Oct\", \"Nov\",\"Dec\"]\n",
        "numbers=[1,2,3,4,5,6,7,8,9,10,11,12] #for makes more sense because we know # of altercations\n",
        "\n",
        "for i in range(len(numbers)):\n",
        "  months[numbers[i]]=names[i]\n",
        "months\n"
      ],
      "metadata": {
        "colab": {
          "base_uri": "https://localhost:8080/"
        },
        "id": "sBLcgI_LV_tu",
        "outputId": "92651a20-ed8e-408c-bc8f-4b78667247c7"
      },
      "execution_count": null,
      "outputs": [
        {
          "output_type": "execute_result",
          "data": {
            "text/plain": [
              "{1: 'Jan',\n",
              " 2: 'Feb',\n",
              " 3: 'Mar',\n",
              " 4: 'Apr',\n",
              " 5: 'May',\n",
              " 6: 'Jun',\n",
              " 7: 'Jul',\n",
              " 8: 'Aug',\n",
              " 9: 'Sep',\n",
              " 10: 'Oct',\n",
              " 11: 'Nov',\n",
              " 12: 'Dec'}"
            ]
          },
          "metadata": {},
          "execution_count": 22
        }
      ]
    },
    {
      "cell_type": "code",
      "source": [
        "annual_salary = float(input(\"Enter your annual salary: \"))\n",
        "portion_saved = float(input(\"Enter the percent of your salary to save, as a decimal: \"))\n",
        "total_cost = float(input(\"Enter the cost of your dream home: \"))\n",
        "\n",
        "portion_down_payment = 0.25\n",
        "r = 0.04\n",
        "\n",
        "down_payment = total_cost * portion_down_payment\n",
        "\n",
        "current_savings = 0.0\n",
        "monthly_salary = annual_salary / 12\n",
        "monthly_return = r / 12\n",
        "months = 0\n",
        "\n",
        "while current_savings < down_payment:\n",
        "    current_savings += current_savings * monthly_return\n",
        "    current_savings += monthly_salary * portion_saved\n",
        "    months += 1\n",
        "\n",
        "print(f\"Number of months: {months}\")"
      ],
      "metadata": {
        "colab": {
          "base_uri": "https://localhost:8080/"
        },
        "id": "ru0Nzzyd6xco",
        "outputId": "43ca4414-243c-424e-cb6c-705b3fbe9b11"
      },
      "execution_count": null,
      "outputs": [
        {
          "output_type": "stream",
          "name": "stdout",
          "text": [
            "Enter your annual salary: 120000\n",
            "Enter the percent of your salary to save, as a decimal: .10\n",
            "Enter the cost of your dream home: 1000000\n",
            "Number of months: 183\n"
          ]
        }
      ]
    },
    {
      "cell_type": "code",
      "source": [
        "\n",
        "annual_salary = float(input(\"Enter your annual salary: \"))\n",
        "portion_saved = float(input(\"Enter the percent of your salary to save, as a decimal: \"))\n",
        "total_cost = float(input(\"Enter the cost of your dream home: \"))\n",
        "semi_annual_raise = float(input(\"Enter the semi-annual raise, as a decimal: \"))\n",
        "\n",
        "portion_down_payment = 0.25\n",
        "r = 0.04\n",
        "\n",
        "down_payment = total_cost * portion_down_payment\n",
        "\n",
        "current_savings = 0.0\n",
        "monthly_salary = annual_salary / 12\n",
        "monthly_return = r / 12\n",
        "months = 0\n",
        "\n",
        "while current_savings < down_payment:\n",
        "    current_savings += current_savings * monthly_return\n",
        "    current_savings += monthly_salary * portion_saved\n",
        "    months += 1\n",
        "\n",
        "    if months % 6 == 0:\n",
        "        annual_salary += annual_salary * semi_annual_raise\n",
        "        monthly_salary = annual_salary / 12  # Update monthly salary\n",
        "\n",
        "print(f\"Number of months: {months}\")\n"
      ],
      "metadata": {
        "colab": {
          "base_uri": "https://localhost:8080/"
        },
        "id": "lXN0sVL78FuU",
        "outputId": "44f3aaf7-f59a-419e-f7f1-025aad4602d9"
      },
      "execution_count": null,
      "outputs": [
        {
          "output_type": "stream",
          "name": "stdout",
          "text": [
            "Enter your annual salary: 120000\n",
            "Enter the percent of your salary to save, as a decimal: .05\n",
            "Enter the cost of your dream home: 500000\n",
            "Enter the semi-annual raise, as a decimal: .03\n",
            "Number of months: 142\n"
          ]
        }
      ]
    },
    {
      "cell_type": "code",
      "source": [
        "def range_check(num, low, high):\n",
        "    if num>=low and num<=high:\n",
        "      return True\n",
        "    else:\n",
        "      return False"
      ],
      "metadata": {
        "id": "X7NmRI8w9MkK"
      },
      "execution_count": null,
      "outputs": []
    },
    {
      "cell_type": "code",
      "source": [
        "print(range_check(2,1,3))"
      ],
      "metadata": {
        "colab": {
          "base_uri": "https://localhost:8080/"
        },
        "id": "Gl3QhzN_xIcY",
        "outputId": "a1b1458b-e257-4cd3-fc74-0b069af15016"
      },
      "execution_count": null,
      "outputs": [
        {
          "output_type": "stream",
          "name": "stdout",
          "text": [
            "True\n"
          ]
        }
      ]
    },
    {
      "cell_type": "code",
      "source": [
        "#Parking Garage\n",
        "def calcFee(hours,decimals=2):\n",
        "  fee= round(5+2.5*hours, decimals)\n",
        "  return fee\n",
        "def displayFee(fee):\n",
        "  print(fee)\n",
        "\n",
        "hours_parked=int(input('number of hours:'))\n",
        "f=calcFee(hours_parked)\n",
        "displayFee(f)"
      ],
      "metadata": {
        "colab": {
          "base_uri": "https://localhost:8080/"
        },
        "id": "gtYp3b-ecImi",
        "outputId": "5f033f3d-3514-41a8-c1dd-49aa4db42689"
      },
      "execution_count": null,
      "outputs": [
        {
          "output_type": "stream",
          "name": "stdout",
          "text": [
            "number of hours:4\n",
            "15.0\n"
          ]
        }
      ]
    },
    {
      "cell_type": "code",
      "source": [
        "def rev(s):\n",
        "  if len(s)==1:\n",
        "    return s\n",
        "  else:\n",
        "    return s[-1]+rev(s[:-1])\n",
        "rev('Halloween')"
      ],
      "metadata": {
        "colab": {
          "base_uri": "https://localhost:8080/",
          "height": 35
        },
        "id": "TNjlD097khuX",
        "outputId": "08626685-1252-45b0-a106-9be72c42a731"
      },
      "execution_count": null,
      "outputs": [
        {
          "output_type": "execute_result",
          "data": {
            "text/plain": [
              "'neewollaH'"
            ],
            "application/vnd.google.colaboratory.intrinsic+json": {
              "type": "string"
            }
          },
          "metadata": {},
          "execution_count": 20
        }
      ]
    },
    {
      "cell_type": "code",
      "source": [
        "\"\"\"Function that calculates the weighted average of a list L, given weights w the fuction should handle the following exception error types:\n",
        " -ZeroDivisionError(return empty list)\n",
        " -TypeError (Returns empty list)\n",
        " -Any other unknown error (returns float ('nan'))\"\"\"\n",
        "\n",
        "def wAvg(L,W):\n",
        "  res=[]\n",
        "  try:\n",
        "    for i in range(len(L)):\n",
        "      res.append(L[i]*W[i])\n",
        "    return sum(res)/sum(W)\n",
        "  except ZeroDivisionError:\n",
        "    print(\"Division by zero.\")\n",
        "    return []\n",
        "  except TypeError:\n",
        "    print(\"Non-numerical objects found.\")\n",
        "    return[]\n",
        "  except Exception as e:\n",
        "    print(f\"Unknown error: {e}\")\n",
        "    return float('nan')\n",
        "\n",
        "wAvg([1,2,3],[.4,0,-.4])\n",
        "\n"
      ],
      "metadata": {
        "colab": {
          "base_uri": "https://localhost:8080/"
        },
        "id": "Gc1ZC2E79vnH",
        "outputId": "602f13ac-a155-4a08-b405-863cfe027e60"
      },
      "execution_count": null,
      "outputs": [
        {
          "output_type": "stream",
          "name": "stdout",
          "text": [
            "Division by zero.\n"
          ]
        },
        {
          "output_type": "execute_result",
          "data": {
            "text/plain": [
              "[]"
            ]
          },
          "metadata": {},
          "execution_count": 16
        }
      ]
    },
    {
      "cell_type": "code",
      "source": [
        "class Student:\n",
        "    def __init__(self, name, number):\n",
        "        self.name = name\n",
        "        self.number = number\n",
        "\n",
        "    def __str__(self):    #str and repr gives you the same result\n",
        "      return f'Name:{self.name}.'\n",
        "\n",
        "student1 = Student(\"James Bond\",\"007\")\n",
        "student2 = Student(\"Clark Kent\", \"333\")\n",
        "\n",
        "print(student1.name)\n",
        "print(student2.name)"
      ],
      "metadata": {
        "id": "2oV0Rfqz-0jY",
        "outputId": "27324508-7f1e-4609-af09-cc6501705d5a",
        "colab": {
          "base_uri": "https://localhost:8080/"
        }
      },
      "execution_count": 1,
      "outputs": [
        {
          "output_type": "stream",
          "name": "stdout",
          "text": [
            "James Bond\n",
            "Clark Kent\n"
          ]
        }
      ]
    }
  ]
}