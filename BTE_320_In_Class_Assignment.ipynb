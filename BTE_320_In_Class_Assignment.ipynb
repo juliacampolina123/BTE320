{
  "nbformat": 4,
  "nbformat_minor": 0,
  "metadata": {
    "colab": {
      "provenance": [],
      "authorship_tag": "ABX9TyO+IwnAJQEUEZgjouT5nVsG",
      "include_colab_link": true
    },
    "kernelspec": {
      "name": "python3",
      "display_name": "Python 3"
    },
    "language_info": {
      "name": "python"
    }
  },
  "cells": [
    {
      "cell_type": "markdown",
      "metadata": {
        "id": "view-in-github",
        "colab_type": "text"
      },
      "source": [
        "<a href=\"https://colab.research.google.com/github/juliacampolina123/BTE320/blob/main/BTE_320_In_Class_Assignment.ipynb\" target=\"_parent\"><img src=\"https://colab.research.google.com/assets/colab-badge.svg\" alt=\"Open In Colab\"/></a>"
      ]
    },
    {
      "cell_type": "code",
      "execution_count": 9,
      "metadata": {
        "colab": {
          "base_uri": "https://localhost:8080/"
        },
        "id": "X_ZU8SAKCnRH",
        "outputId": "7bd04d60-bd5b-4e6e-8404-faef712d4807"
      },
      "outputs": [
        {
          "output_type": "stream",
          "name": "stdout",
          "text": [
            "244.92000000000002\n"
          ]
        }
      ],
      "source": [
        "h=10\n",
        "r=3\n",
        "pi=3.14\n",
        "area=2*pi*r**2+2*pi*r*h\n",
        "print(area)"
      ]
    },
    {
      "cell_type": "code",
      "source": [
        "Player1= input(\"Player 1: choose rock, paper or scissors: \")\n",
        "Player2= input(\"Player 2: choose rock, paper or scissors: \")\n",
        "\n",
        "if Player1==Player2:\n",
        "  print('Draw')\n",
        "elif Player1=='rock' and Player2=='scissors':\n",
        "  print('Player1 wins')\n",
        "elif Player1=='paper' and Player2=='rock':\n",
        "  print('Player1 wins')\n",
        "elif Player1=='scissors' and Player2=='rock':\n",
        "  print('Player1 wins')\n",
        "else:\n",
        "  print('Player2 wins')\n",
        "\n",
        "\n"
      ],
      "metadata": {
        "colab": {
          "base_uri": "https://localhost:8080/"
        },
        "id": "agx3BLWdLr1H",
        "outputId": "8799f584-b775-4b65-a68c-1ca22d227452"
      },
      "execution_count": null,
      "outputs": [
        {
          "output_type": "stream",
          "name": "stdout",
          "text": [
            "Player 1: choose rock, paper or scissors: rock\n",
            "Player 2: choose rock, paper or scissors: paper\n",
            "Player2 wins\n"
          ]
        }
      ]
    },
    {
      "cell_type": "code",
      "source": [
        "#Build a calculator\n",
        "Number1= float(input(\"enter number 1:\"))\n",
        "Number2= float(input(\"enter number 2:\"))\n",
        "Symbol= input(\"Choose operator (+,-,*,/,**):\")\n",
        "\n",
        "if Symbol=='*':\n",
        "  print(Number1*Number2)\n",
        "elif Symbol==\"-\":\n",
        "  print(Number1-Number2)\n",
        "elif Symbol==\"+\":\n",
        "  print(Number1+Number2)\n",
        "elif Symbol==\"/\":\n",
        "  print(Number1/Number2)\n",
        "else:\n",
        "  print(Number1**Number2)"
      ],
      "metadata": {
        "colab": {
          "base_uri": "https://localhost:8080/"
        },
        "id": "lFmlOoiiW0sP",
        "outputId": "1395fc63-2a54-4171-d641-1e6452b32866"
      },
      "execution_count": 5,
      "outputs": [
        {
          "output_type": "stream",
          "name": "stdout",
          "text": [
            "enter number 1:4\n",
            "enter number 2:2\n",
            "Choose operator (+,-,*,/,**):/\n",
            "2.0\n"
          ]
        }
      ]
    }
  ]
}