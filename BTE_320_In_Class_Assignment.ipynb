{
  "nbformat": 4,
  "nbformat_minor": 0,
  "metadata": {
    "colab": {
      "provenance": [],
      "authorship_tag": "ABX9TyNY/ruV9mxNmY5+yZLktZaA",
      "include_colab_link": true
    },
    "kernelspec": {
      "name": "python3",
      "display_name": "Python 3"
    },
    "language_info": {
      "name": "python"
    }
  },
  "cells": [
    {
      "cell_type": "markdown",
      "metadata": {
        "id": "view-in-github",
        "colab_type": "text"
      },
      "source": [
        "<a href=\"https://colab.research.google.com/github/juliacampolina123/BTE320/blob/main/BTE_320_In_Class_Assignment.ipynb\" target=\"_parent\"><img src=\"https://colab.research.google.com/assets/colab-badge.svg\" alt=\"Open In Colab\"/></a>"
      ]
    },
    {
      "cell_type": "code",
      "execution_count": null,
      "metadata": {
        "colab": {
          "base_uri": "https://localhost:8080/"
        },
        "id": "X_ZU8SAKCnRH",
        "outputId": "7bd04d60-bd5b-4e6e-8404-faef712d4807"
      },
      "outputs": [
        {
          "output_type": "stream",
          "name": "stdout",
          "text": [
            "244.92000000000002\n"
          ]
        }
      ],
      "source": [
        "h=10\n",
        "r=3\n",
        "pi=3.14\n",
        "area=2*pi*r**2+2*pi*r*h\n",
        "print(area)"
      ]
    },
    {
      "cell_type": "code",
      "source": [
        "Player1= input(\"Player 1: choose rock, paper or scissors: \")\n",
        "Player2= input(\"Player 2: choose rock, paper or scissors: \")\n",
        "\n",
        "if Player1==Player2:\n",
        "  print('Draw')\n",
        "elif Player1=='rock' and Player2=='scissors':\n",
        "  print('Player1 wins')\n",
        "elif Player1=='paper' and Player2=='rock':\n",
        "  print('Player1 wins')\n",
        "elif Player1=='scissors' and Player2=='rock':\n",
        "  print('Player1 wins')\n",
        "else:\n",
        "  print('Player2 wins')\n",
        "\n",
        "\n"
      ],
      "metadata": {
        "colab": {
          "base_uri": "https://localhost:8080/"
        },
        "id": "agx3BLWdLr1H",
        "outputId": "8799f584-b775-4b65-a68c-1ca22d227452"
      },
      "execution_count": null,
      "outputs": [
        {
          "output_type": "stream",
          "name": "stdout",
          "text": [
            "Player 1: choose rock, paper or scissors: rock\n",
            "Player 2: choose rock, paper or scissors: paper\n",
            "Player2 wins\n"
          ]
        }
      ]
    },
    {
      "cell_type": "code",
      "source": [
        "#Build a calculator\n",
        "Number1= float(input(\"enter number 1:\"))\n",
        "Number2= float(input(\"enter number 2:\"))\n",
        "Symbol= input(\"Choose operator (+,-,*,/,**):\")\n",
        "\n",
        "if Symbol=='*':\n",
        "  print(Number1*Number2)\n",
        "elif Symbol==\"-\":\n",
        "  print(Number1-Number2)\n",
        "elif Symbol==\"+\":\n",
        "  print(Number1+Number2)\n",
        "elif Symbol==\"/\":\n",
        "  print(Number1/Number2)\n",
        "else:\n",
        "  print(Number1**Number2)"
      ],
      "metadata": {
        "colab": {
          "base_uri": "https://localhost:8080/"
        },
        "id": "lFmlOoiiW0sP",
        "outputId": "1395fc63-2a54-4171-d641-1e6452b32866"
      },
      "execution_count": null,
      "outputs": [
        {
          "output_type": "stream",
          "name": "stdout",
          "text": [
            "enter number 1:4\n",
            "enter number 2:2\n",
            "Choose operator (+,-,*,/,**):/\n",
            "2.0\n"
          ]
        }
      ]
    },
    {
      "cell_type": "code",
      "source": [
        "Choice= input(\"Do you want to play a game: \")\n",
        "while Choice == 'yes':\n",
        "\n",
        "  Player1= input(\"Player 1: choose rock, paper or scissors: \")\n",
        "  Player2= input(\"Player 2: choose rock, paper or scissors: \")\n",
        "  if Player1==Player2:\n",
        "    print('Draw')\n",
        "  elif Player1=='rock' and Player2=='scissors':\n",
        "    print('Player1 wins')\n",
        "  elif Player1=='paper' and Player2=='rock':\n",
        "    print('Player1 wins')\n",
        "  elif Player1=='scissors' and Player2=='rock':\n",
        "    print('Player1 wins')\n",
        "  else:\n",
        "    print('Player2 wins')\n",
        "\n",
        "  Choice= input(\"Play again: \") #update\n"
      ],
      "metadata": {
        "colab": {
          "base_uri": "https://localhost:8080/"
        },
        "id": "E_2_JN_gOjzJ",
        "outputId": "1da517a9-010d-4aab-9637-a5b12879e91d"
      },
      "execution_count": null,
      "outputs": [
        {
          "name": "stdout",
          "output_type": "stream",
          "text": [
            "Do you want to play a game: yes\n",
            "Player 1: choose rock, paper or scissors: rock \n",
            "Player 2: choose rock, paper or scissors: paper\n",
            "Player2 wins\n",
            "Play again: no\n"
          ]
        }
      ]
    },
    {
      "cell_type": "code",
      "source": [
        "#Parking garage - Initial problem\n",
        "#hourly 2.5 , flat rate 5, 1-8 hours, minimum $10, maximum $20\n",
        "\n",
        "flat_rate=5\n",
        "hourly_rate=2.5\n",
        "for hour in range(1,9,1):\n",
        "  total=flat_rate+(2.5*hour)\n",
        "  if total<10:\n",
        "    total=10.0\n",
        "  elif total>20:\n",
        "    total=20.0\n",
        "  print(hour, total)\n"
      ],
      "metadata": {
        "colab": {
          "base_uri": "https://localhost:8080/"
        },
        "id": "BpsHHdKaaRc1",
        "outputId": "4a1d7ac5-12bf-472b-ef10-be81235a5ebf"
      },
      "execution_count": 12,
      "outputs": [
        {
          "output_type": "stream",
          "name": "stdout",
          "text": [
            "1 10.0\n",
            "2 10.0\n",
            "3 12.5\n",
            "4 15.0\n",
            "5 17.5\n",
            "6 20.0\n",
            "7 20.0\n",
            "8 20.0\n"
          ]
        }
      ]
    },
    {
      "cell_type": "code",
      "source": [
        "#Movie Theater - Initial Problem\n",
        "#ticket=$10 people attending= 20 additional attendees = 2x round (ad^1/2) fixed cost of $200 to run theater\n",
        "\n",
        "for ad in range(0,201,25):\n",
        "  additional=2*round(ad**0.5)\n",
        "  profit= (20+additional)*10-200-ad\n",
        "  print(ad, profit)"
      ],
      "metadata": {
        "colab": {
          "base_uri": "https://localhost:8080/"
        },
        "id": "KH9s1kDwkdYw",
        "outputId": "192426b1-9a2e-48bf-de12-94a54c0241f4"
      },
      "execution_count": 24,
      "outputs": [
        {
          "output_type": "stream",
          "name": "stdout",
          "text": [
            "0 0\n",
            "25 75\n",
            "50 90\n",
            "75 105\n",
            "100 100\n",
            "125 95\n",
            "150 90\n",
            "175 85\n",
            "200 80\n"
          ]
        }
      ]
    },
    {
      "cell_type": "code",
      "source": [],
      "metadata": {
        "id": "SXsShFyumRyl"
      },
      "execution_count": null,
      "outputs": []
    }
  ]
}